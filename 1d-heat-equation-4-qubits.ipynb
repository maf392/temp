{
 "cells": [
  {
   "cell_type": "code",
   "execution_count": 3,
   "id": "silent-international",
   "metadata": {},
   "outputs": [],
   "source": [
    "import ula_unitaries as ula #contains advanced gates\n",
    "import cirq\n",
    "import numpy as np\n",
    "import qsimcirq\n",
    "import skquant.opt as skopt\n",
    "import matplotlib.pyplot as plt"
   ]
  },
  {
   "cell_type": "code",
   "execution_count": 4,
   "id": "established-intent",
   "metadata": {},
   "outputs": [],
   "source": [
    "n_qubits = 4 #number of qubits used to solve the problem\n",
    "depth = 4 #depth of circuit\n",
    "n_params = 6*(n_qubits-1)*depth #number of parameters\n",
    "\n",
    "\n",
    "def checkwave(l,n,d):\n",
    "    #evaluates lambda0*U(lambda)|0>, giving us |u(t)>\n",
    "    circuit = cirq.Circuit()\n",
    "    qubits = [cirq.GridQubit(0, i) for i in range(n)]\n",
    "    circuit.append(ula.U(n=n,d=d,l=l[1:]).on(*qubits))\n",
    "    qsimSim = qsimcirq.QSimSimulator()\n",
    "    result = qsimSim.simulate(circuit).state_vector()\n",
    "    res = l[0]*np.real(result)\n",
    "    return res\n",
    "\n",
    "def generateBounds(n, d):\n",
    "    \"\"\"\n",
    "    Generate bounds for parameters, lambda0 bounds = [0,3] (seemingly no consensus on bounds here)\n",
    "    other parameters' bounds = [0, 2pi]\n",
    "    \n",
    "    Used for skqopt.minimize\n",
    "    \"\"\"\n",
    "    bounds = [[0,3]]\n",
    "    for i in range(6*(n-1)*d):\n",
    "        bounds.append([0,2*np.pi])\n",
    "    return bounds"
   ]
  },
  {
   "cell_type": "code",
   "execution_count": 5,
   "id": "breathing-official",
   "metadata": {},
   "outputs": [],
   "source": [
    "\"\"\"\n",
    "For heat equation, need\n",
    "<ψ(l~)|ψ(l)>\n",
    "<ψ(l~)|A|ψ(l)>\n",
    "<ψ(l~)|A†|ψ(l)>\n",
    "\"\"\"\n",
    "\n",
    "def QNPU1(lprev,lnew):\n",
    "    \"\"\"\n",
    "    Computes <ψ(l~)|ψ(l)> following method in Guide to the Hadamard Test\n",
    "    \"\"\"\n",
    "    qubits = [cirq.GridQubit(0,i) for i in range(0,n_qubits+1)] #ansatz qubits\n",
    "    ctrl = qubits[0]\n",
    "    #ancilla qubit\n",
    "    \n",
    "    circuit = cirq.Circuit(strategy=cirq.InsertStrategy.EARLIEST)\n",
    "    circuit.append(cirq.H(ctrl))\n",
    "    circuit.append(ula.CU(n_qubits,depth,lprev).on(ctrl,*qubits[1:]))\n",
    "    circuit.append(ula.CU(n_qubits,depth,lnew,True).on(ctrl,*qubits[1:]))\n",
    "    circuit.append(cirq.H(ctrl))\n",
    "    \n",
    "    #Hadamard test\n",
    "    qSim = qsimcirq.QSimSimulator()\n",
    "    res = qSim.simulate(circuit).state_vector()\n",
    "    \n",
    "    prob = sum(abs(res[len(res)//2:])**2)\n",
    "    #compute prob of |1> as |ψ|^2\n",
    "    \n",
    "    return 1-2*prob\n",
    "    \n",
    "    \n",
    "def QNPU2(lprev,lnew):\n",
    "    \"\"\"\n",
    "    Computes <ψ(l~)|A|ψ(l)> following method in Guide to the Hadamard Test\n",
    "    \"\"\"\n",
    "    qubits = [cirq.GridQubit(0,i) for i in range(0,2*n_qubits-1)] \n",
    "    ctrl = qubits[0]\n",
    "    #[0:n-1] ancilla qubits and [n-1:2n-1] ansatz qubits\n",
    "    \n",
    "    circuit = cirq.Circuit(strategy=cirq.InsertStrategy.EARLIEST)\n",
    "    circuit.append(cirq.H(ctrl))\n",
    "    circuit.append(ula.CU(n_qubits,depth,lprev).on(ctrl,*qubits[n_qubits-1:]))\n",
    "    #only acts on control qubit and ansatz qubits\n",
    "    circuit.append(ula.CAdder(n_qubits).on(*qubits))\n",
    "    #acts on rest of the ancilla qubits + ansatz qubits\n",
    "    circuit.append(ula.CU(n_qubits,depth,lnew,True).on(ctrl,*qubits[n_qubits-1:]))\n",
    "    circuit.append(cirq.H(ctrl))\n",
    "    \n",
    "    #Hadamard test\n",
    "    qSim = qsimcirq.QSimSimulator()\n",
    "    res = qSim.simulate(circuit).state_vector()\n",
    "    \n",
    "    prob = sum(abs(res[len(res)//2:])**2)\n",
    "    #compute prob of |1> as |ψ|^2\n",
    "    \n",
    "    return 1-2*prob\n",
    "    \n",
    "def QNPU3(lprev,lnew):\n",
    "    \"\"\"\n",
    "    Computes <ψ(l~)|A†|ψ(l)> following method in Guide to the Hadamard Test\n",
    "    \"\"\"\n",
    "    qubits = [cirq.GridQubit(0,i) for i in range(0,2*n_qubits-1)]\n",
    "    ctrl = qubits[0] #ancilla qubit\n",
    "    #[0:n-1] ancilla qubits and [n-1:2n-1] ansatz qubits\n",
    "    \n",
    "    circuit = cirq.Circuit(strategy=cirq.InsertStrategy.EARLIEST)\n",
    "    circuit.append(cirq.H(ctrl))\n",
    "    circuit.append(ula.CU(n_qubits,depth,lprev).on(ctrl,*qubits[n_qubits-1:]))\n",
    "    circuit.append(ula.CAdder(n_qubits, True).on(*qubits))\n",
    "    circuit.append(ula.CU(n_qubits,depth,lnew,True).on(ctrl,*qubits[n_qubits-1:(2*n_qubits-1)]))\n",
    "    circuit.append(cirq.H(ctrl))\n",
    "    \n",
    "    #Hadamard test\n",
    "    qSim = qsimcirq.QSimSimulator()\n",
    "    res = qSim.simulate(circuit).state_vector()\n",
    "    \n",
    "    prob = sum(abs(res[len(res)//2:])**2)\n",
    "    #compute prob of |1> as |ψ|^2\n",
    "    \n",
    "    return 1-2*prob\n",
    "    \n",
    "        \n",
    "    \n"
   ]
  },
  {
   "cell_type": "code",
   "execution_count": 15,
   "id": "intellectual-persian",
   "metadata": {},
   "outputs": [],
   "source": [
    "def cost(lnew,lprev):\n",
    "    x1 = QNPU1(lprev[1:], lnew[1:])\n",
    "    #include all parameters except lambda0\n",
    "    x2 = QNPU2(lprev[1:], lnew[1:])\n",
    "    x3 = QNPU3(lprev[1:], lnew[1:])\n",
    "    \n",
    "    ex = (1-(2*t)*(4**n_qubits))*x1 + (t*(4**n_qubits))*(x2+x3)\n",
    "    #cost function = lambda0_new^2 - 2*lambda0_prev*lambda_0_new*(<..|..>)\n",
    "    return lnew[0]**2- 2*lprev[0]*lnew[0]*ex\n",
    "    \n",
    "    "
   ]
  },
  {
   "cell_type": "code",
   "execution_count": 7,
   "id": "demanding-place",
   "metadata": {},
   "outputs": [],
   "source": [
    "\"\"\"\n",
    "Generate initial parameters\n",
    "\"\"\"\n",
    "\n",
    "params = np.zeros(n_params + 1) #generate parameter list\n",
    "params[0] = np.random.random()*8\n",
    "\n",
    "for i in range(1,n_params): params[i] = np.random.random()*2*np.pi \n",
    "bounds = generateBounds(n_qubits,depth)"
   ]
  },
  {
   "cell_type": "code",
   "execution_count": 8,
   "id": "amazing-country",
   "metadata": {},
   "outputs": [],
   "source": [
    "#minimize initial guess w/ obj func = 2norm(checkwave - sin(pi * x))\n",
    "\n",
    "def obj(p):\n",
    "    x=np.linspace(0,1,2**n_qubits)\n",
    "    v = checkwave(p,n_qubits,depth)-np.sin(np.pi*x*2)\n",
    "    return np.dot(v,v)\n",
    "\n",
    "result = skopt.minimize(obj, params, bounds, 10000, method='imfil')[0]\n",
    "lsin = result.optpar"
   ]
  },
  {
   "cell_type": "code",
   "execution_count": 28,
   "id": "naval-liberia",
   "metadata": {},
   "outputs": [
    {
     "data": {
      "image/png": "[encoded data removed]",
      "text/plain": [
       "<Figure size 432x288 with 1 Axes>"
      ]
     },
     "metadata": {
      "needs_background": "light"
     },
     "output_type": "display_data"
    }
   ],
   "source": [
    "plt.plot(np.linspace(0,1,2**(n_qubits)),np.sin(2*np.pi*x))\n",
    "plt.plot(np.linspace(0,1,2**(n_qubits)),checkwave(lsin,n_qubits,depth))\n",
    "plt.show()\n",
    "#check to see if it correctly found the minimum"
   ]
  },
  {
   "cell_type": "code",
   "execution_count": 16,
   "id": "indirect-newsletter",
   "metadata": {},
   "outputs": [],
   "source": [
    "## one timestep ##\n",
    "t = 0.001\n",
    "\n",
    "def costObj(x):\n",
    "    return cost(x,lsin)\n",
    "\n",
    "result = skopt.minimize(costObj, params, bounds, 10000, method='imfil')[0]\n",
    "## result for one timestep ##"
   ]
  },
  {
   "cell_type": "code",
   "execution_count": 24,
   "id": "classified-lawyer",
   "metadata": {},
   "outputs": [
    {
     "data": {
      "text/plain": [
       "array([2.62170481, 1.10601546, 0.46068662, 4.46348967, 0.        ,\n",
       "       4.44802869, 0.87097034, 2.71547137, 2.32590366, 6.03521365,\n",
       "       5.72531867, 3.26136845, 0.40097366, 2.25243055, 0.46121887,\n",
       "       1.85935592, 2.33122688, 4.30656873, 4.60623241, 5.25151302,\n",
       "       1.86248834, 1.36207753, 2.3231107 , 1.05169179, 1.93906749,\n",
       "       4.85183374, 6.28318531, 5.39028795, 3.21249719, 4.11967056,\n",
       "       4.6466122 , 0.76321749, 4.66578983, 6.28318531, 3.09821972,\n",
       "       2.30165607, 4.84484754, 6.28318531, 1.62864637, 5.14124371,\n",
       "       5.10572663, 5.29496875, 5.59269927, 5.11992126, 1.45755943,\n",
       "       5.50218001, 2.4978156 , 5.97349095, 0.        , 1.64773326,\n",
       "       4.97645472, 0.36123588, 5.71080762, 6.28318531, 2.15830968,\n",
       "       4.41815177, 1.94323392, 0.95772912, 3.72066448, 1.47592125,\n",
       "       1.47891049, 0.76654422, 3.41247098, 4.52571203, 6.28318531,\n",
       "       0.87636621, 1.14521878, 0.86843491, 5.50543208, 0.62771251,\n",
       "       3.86249149, 3.14465487, 0.        ])"
      ]
     },
     "execution_count": 24,
     "metadata": {},
     "output_type": "execute_result"
    }
   ],
   "source": [
    "result.optpar\n",
    "#list of parameters after one timestep"
   ]
  },
  {
   "cell_type": "code",
   "execution_count": 22,
   "id": "crude-starter",
   "metadata": {
    "scrolled": true
   },
   "outputs": [
    {
     "data": {
      "image/png": "[encoded data removed]",
      "text/plain": [
       "<Figure size 432x288 with 1 Axes>"
      ]
     },
     "metadata": {
      "needs_background": "light"
     },
     "output_type": "display_data"
    }
   ],
   "source": [
    "\"\"\"\n",
    "Solution after one timestep, i.e. u(x,0) compared with u(x,0+t)\n",
    "\n",
    "\"\"\"\n",
    "ltest = result.optpar\n",
    "x = np.linspace(0,1,2**n_qubits)\n",
    "plt.plot(x,np.sin(2*np.pi*x))\n",
    "plt.plot(x,checkwave(ltest,n_qubits,depth))\n",
    "plt.show()"
   ]
  },
  {
   "cell_type": "code",
   "execution_count": null,
   "id": "virgin-showcase",
   "metadata": {},
   "outputs": [],
   "source": [
    "\"\"\"\n",
    "The code below can be used to generate a solution from t=0 to t=tend\n",
    "\"\"\"\n",
    "\n",
    "t=0.001\n",
    "tend=0.010\n",
    "\n",
    "numsteps = tend/t\n",
    "\n",
    "def initobj(p):\n",
    "    x=np.linspace(0,1,2**n_qubits)\n",
    "    v = checkwave(p,n_qubits,depth)-np.sin(np.pi*x*2)\n",
    "    return np.dot(v,v)\n",
    "\n",
    "result = skopt.minimize(initobj, params, bounds, 10000, method='imfil')[0]\n",
    "lsin = result.optpar\n",
    "\n",
    "params = np.zeros(n_params + 1) #generate parameter list\n",
    "params[0] = np.random.random()*8\n",
    "\n",
    "for i in range(1,n_params): params[i] = np.random.random()*2*np.pi \n",
    "bounds = generateBounds(n_qubits,depth)\n",
    "\n",
    "results = []\n",
    "#results[i] contains the optimal set of parameters for the ith timestep\n",
    "\n",
    "lprev = lsin\n",
    "for i in range(0,numsteps):\n",
    "    result = skopt.minimize(cost, params, bounds, 10000, method='imfil')[0]\n",
    "    lprev = result.optpar\n",
    "    results.append(lprev)\n",
    "### END ###"
   ]
  }
 ],
 "metadata": {
  "kernelspec": {
   "display_name": "Python 3",
   "language": "python",
   "name": "python3"
  },
  "language_info": {
   "codemirror_mode": {
    "name": "ipython",
    "version": 3
   },
   "file_extension": ".py",
   "mimetype": "text/x-python",
   "name": "python",
   "nbconvert_exporter": "python",
   "pygments_lexer": "ipython3",
   "version": "3.8.5"
  }
 },
 "nbformat": 4,
 "nbformat_minor": 5
}
